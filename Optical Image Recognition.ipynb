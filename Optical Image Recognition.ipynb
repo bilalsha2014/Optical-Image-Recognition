{
 "cells": [
  {
   "cell_type": "code",
   "execution_count": 64,
   "metadata": {},
   "outputs": [],
   "source": [
    "# Optical Character Recognition\n",
    "# Print all the images text and stored it in csv format\n",
    "# to perform this operation we have to install some dependencies on our IDE Such as pytesseract,tesseract,pillow.These are libraries that has certain function to convert image into text.\n",
    "\n",
    "# first go to terminal of your IDE and write pip install pytesseract\n",
    "# Again go to terminal of your IDE and write pip install tesseract\n",
    "# Again go to terminal of your IDE and write pip install pillow\n",
    "# Now Install tesseract library from https://github.com/UB-Mannheim/tesseract/wiki\n",
    "\n",
    "import csv\n",
    "import re\n",
    "import os\n",
    "import pytesseract\n",
    "from PIL import Image\n",
    "pytesseract.pytesseract.tesseract_cmd = r'C:\\Program Files\\Tesseract-OCR\\tesseract.exe'\n",
    "\n",
    "#It will print the names of all the files in a folder\n",
    "filelist=os.listdir('Images')\n",
    "\n",
    "text=[]\n",
    "#Loop to extract all the Images text present in a folder\n",
    "for x in filelist:\n",
    "    img = Image.open('Images/'+x)\n",
    "    textConvert = pytesseract.image_to_string(img)\n",
    "    #If we have some new line kind of thing '\\n' in our text we can replace it by using sub\n",
    "    NewlineReplace=re.sub(r'\\n',\"\",textConvert)\n",
    "    text.append(NewlineReplace)\n",
    "# print(text)\n",
    "\n",
    "#Storing the values in  CSV Format Now\n",
    "\n",
    "myData = []\n",
    "myData.append(filelist)\n",
    "myData.append(text)\n",
    "\n",
    "\n",
    "#This will transpose the text and organize the file name with their text\n",
    "transposeData=list(map(list, zip(*myData)))\n",
    "\n",
    "\n",
    "with open('Output.csv','w',newline='') as OF:\n",
    "    headwriter = csv.DictWriter(OF, fieldnames=[\"File Name\", \"File Text\"])\n",
    "    headwriter.writeheader()\n",
    "    with OF:\n",
    "        textwriter = csv.writer(OF)\n",
    "        textwriter.writerows(transposeData)\n",
    "\n",
    "\n",
    "\n",
    "\n",
    "\n"
   ]
  },
  {
   "cell_type": "code",
   "execution_count": null,
   "metadata": {},
   "outputs": [],
   "source": []
  },
  {
   "cell_type": "code",
   "execution_count": null,
   "metadata": {},
   "outputs": [],
   "source": []
  }
 ],
 "metadata": {
  "kernelspec": {
   "display_name": "Python 3",
   "language": "python",
   "name": "python3"
  },
  "language_info": {
   "codemirror_mode": {
    "name": "ipython",
    "version": 3
   },
   "file_extension": ".py",
   "mimetype": "text/x-python",
   "name": "python",
   "nbconvert_exporter": "python",
   "pygments_lexer": "ipython3",
   "version": "3.7.1"
  }
 },
 "nbformat": 4,
 "nbformat_minor": 2
}
